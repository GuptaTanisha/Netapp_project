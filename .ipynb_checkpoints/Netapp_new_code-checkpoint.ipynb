{
 "cells": [
  {
   "cell_type": "code",
   "execution_count": 264,
   "metadata": {
    "id": "AH9rT4DcSO8t"
   },
   "outputs": [],
   "source": [
    "import numpy as np\n",
    "import pandas as pd\n",
    "from sklearn.model_selection import train_test_split\n",
    "import nltk\n",
    "from sklearn.ensemble import RandomForestClassifier\n",
    "from sklearn.svm import SVC\n",
    "from nltk.classify.scikitlearn import SklearnClassifier\n",
    "from sklearn.feature_extraction.text import CountVectorizer\n",
    "from nltk.corpus import stopwords\n",
    "from string import punctuation\n",
    "from nltk.tokenize import word_tokenize\n",
    "import re"
   ]
  },
  {
   "cell_type": "markdown",
   "metadata": {},
   "source": [
    "### Reading the Data"
   ]
  },
  {
   "cell_type": "code",
   "execution_count": 265,
   "metadata": {
    "colab": {
     "base_uri": "https://localhost:8080/",
     "height": 206
    },
    "id": "vWQnFawSSRjk",
    "outputId": "31ca84f6-fe1a-47aa-f904-cd772a057193"
   },
   "outputs": [
    {
     "data": {
      "text/html": [
       "<div>\n",
       "<style scoped>\n",
       "    .dataframe tbody tr th:only-of-type {\n",
       "        vertical-align: middle;\n",
       "    }\n",
       "\n",
       "    .dataframe tbody tr th {\n",
       "        vertical-align: top;\n",
       "    }\n",
       "\n",
       "    .dataframe thead th {\n",
       "        text-align: right;\n",
       "    }\n",
       "</style>\n",
       "<table border=\"1\" class=\"dataframe\">\n",
       "  <thead>\n",
       "    <tr style=\"text-align: right;\">\n",
       "      <th></th>\n",
       "      <th>Type</th>\n",
       "      <th>Judgement</th>\n",
       "      <th>Section</th>\n",
       "      <th>Offence</th>\n",
       "      <th>Punishment</th>\n",
       "      <th>Status</th>\n",
       "      <th>Type of punishment</th>\n",
       "    </tr>\n",
       "  </thead>\n",
       "  <tbody>\n",
       "    <tr>\n",
       "      <th>274</th>\n",
       "      <td>Criminal cases</td>\n",
       "      <td>Not guilty</td>\n",
       "      <td>153 RPC 66 IT Act</td>\n",
       "      <td>intent to cause roit, sending offensive messages</td>\n",
       "      <td>Committed to session court</td>\n",
       "      <td>Unresolved</td>\n",
       "      <td>Committed to session court</td>\n",
       "    </tr>\n",
       "    <tr>\n",
       "      <th>275</th>\n",
       "      <td>Traffic cases</td>\n",
       "      <td>Accused</td>\n",
       "      <td>279 IPC</td>\n",
       "      <td>rash driving</td>\n",
       "      <td>Fine 1000</td>\n",
       "      <td>Resolved</td>\n",
       "      <td>Fine</td>\n",
       "    </tr>\n",
       "    <tr>\n",
       "      <th>276</th>\n",
       "      <td>Traffic cases</td>\n",
       "      <td>Accused</td>\n",
       "      <td>279 IPC</td>\n",
       "      <td>rash driving</td>\n",
       "      <td>Fine 1000</td>\n",
       "      <td>Resolved</td>\n",
       "      <td>Fine</td>\n",
       "    </tr>\n",
       "    <tr>\n",
       "      <th>277</th>\n",
       "      <td>Criminal cases</td>\n",
       "      <td>Accused</td>\n",
       "      <td>269/188 IPC</td>\n",
       "      <td>Negligently causing danger to life, Disobedien...</td>\n",
       "      <td>Fine 1000</td>\n",
       "      <td>Resolved</td>\n",
       "      <td>Fine</td>\n",
       "    </tr>\n",
       "    <tr>\n",
       "      <th>278</th>\n",
       "      <td>Criminal cases</td>\n",
       "      <td>Accused</td>\n",
       "      <td>188/269 IPC</td>\n",
       "      <td>Disobedience to order duly promulgated by publ...</td>\n",
       "      <td>0</td>\n",
       "      <td>Pending</td>\n",
       "      <td>0</td>\n",
       "    </tr>\n",
       "    <tr>\n",
       "      <th>279</th>\n",
       "      <td>Criminal cases</td>\n",
       "      <td>Accused</td>\n",
       "      <td>188 IPC 11PCAct</td>\n",
       "      <td>Disobedience to order duly promulgated by publ...</td>\n",
       "      <td>0</td>\n",
       "      <td>Pending</td>\n",
       "      <td>0</td>\n",
       "    </tr>\n",
       "    <tr>\n",
       "      <th>280</th>\n",
       "      <td>Traffic cases</td>\n",
       "      <td>Accused</td>\n",
       "      <td>279/IPC 3/181 179 MVAct</td>\n",
       "      <td>Rash driving, without driving license,disobeyi...</td>\n",
       "      <td>0</td>\n",
       "      <td>Pending</td>\n",
       "      <td>0</td>\n",
       "    </tr>\n",
       "    <tr>\n",
       "      <th>281</th>\n",
       "      <td>Traffic cases</td>\n",
       "      <td>Accused</td>\n",
       "      <td>279 IPC 3/181 MVAct</td>\n",
       "      <td>Rash Driving,without driving license</td>\n",
       "      <td>0</td>\n",
       "      <td>Pending</td>\n",
       "      <td>0</td>\n",
       "    </tr>\n",
       "    <tr>\n",
       "      <th>282</th>\n",
       "      <td>Criminal cases</td>\n",
       "      <td>Accused</td>\n",
       "      <td>188 IPC 11PCAct 3/181MVAct</td>\n",
       "      <td>Disobedience to order duly promulgated by pub...</td>\n",
       "      <td>0</td>\n",
       "      <td>Pending</td>\n",
       "      <td>0</td>\n",
       "    </tr>\n",
       "    <tr>\n",
       "      <th>283</th>\n",
       "      <td>Traffic cases</td>\n",
       "      <td>Accused</td>\n",
       "      <td>279 IPC</td>\n",
       "      <td>rash driving</td>\n",
       "      <td>0</td>\n",
       "      <td>Pending</td>\n",
       "      <td>0</td>\n",
       "    </tr>\n",
       "    <tr>\n",
       "      <th>284</th>\n",
       "      <td>Traffic and criminal cases</td>\n",
       "      <td>Accused</td>\n",
       "      <td>279/337 IPC</td>\n",
       "      <td>rash driving, hurts someone rashly</td>\n",
       "      <td>0</td>\n",
       "      <td>Pending</td>\n",
       "      <td>0</td>\n",
       "    </tr>\n",
       "    <tr>\n",
       "      <th>285</th>\n",
       "      <td>Criminal cases</td>\n",
       "      <td>Not guilty</td>\n",
       "      <td>153 RPC 66 IT Act</td>\n",
       "      <td>intent to cause roit, sending offensive messages</td>\n",
       "      <td>0</td>\n",
       "      <td>Pending</td>\n",
       "      <td>0</td>\n",
       "    </tr>\n",
       "    <tr>\n",
       "      <th>286</th>\n",
       "      <td>Traffic cases</td>\n",
       "      <td>Accused</td>\n",
       "      <td>279 IPC</td>\n",
       "      <td>rash driving</td>\n",
       "      <td>0</td>\n",
       "      <td>Pending</td>\n",
       "      <td>0</td>\n",
       "    </tr>\n",
       "    <tr>\n",
       "      <th>287</th>\n",
       "      <td>Traffic cases</td>\n",
       "      <td>Accused</td>\n",
       "      <td>279 IPC</td>\n",
       "      <td>rash driving</td>\n",
       "      <td>0</td>\n",
       "      <td>Pending</td>\n",
       "      <td>0</td>\n",
       "    </tr>\n",
       "    <tr>\n",
       "      <th>288</th>\n",
       "      <td>Criminal cases</td>\n",
       "      <td>Accused</td>\n",
       "      <td>269/188 IPC</td>\n",
       "      <td>Negligently causing danger to life, Disobedien...</td>\n",
       "      <td>0</td>\n",
       "      <td>Pending</td>\n",
       "      <td>0</td>\n",
       "    </tr>\n",
       "  </tbody>\n",
       "</table>\n",
       "</div>"
      ],
      "text/plain": [
       "                           Type   Judgement                     Section  \\\n",
       "274              Criminal cases  Not guilty          153 RPC 66 IT Act    \n",
       "275               Traffic cases     Accused                     279 IPC   \n",
       "276               Traffic cases     Accused                     279 IPC   \n",
       "277              Criminal cases     Accused                269/188 IPC    \n",
       "278              Criminal cases     Accused                188/269 IPC    \n",
       "279              Criminal cases     Accused             188 IPC 11PCAct   \n",
       "280               Traffic cases     Accused     279/IPC 3/181 179 MVAct   \n",
       "281               Traffic cases     Accused         279 IPC 3/181 MVAct   \n",
       "282              Criminal cases     Accused  188 IPC 11PCAct 3/181MVAct   \n",
       "283               Traffic cases     Accused                     279 IPC   \n",
       "284  Traffic and criminal cases     Accused                 279/337 IPC   \n",
       "285              Criminal cases  Not guilty          153 RPC 66 IT Act    \n",
       "286               Traffic cases     Accused                     279 IPC   \n",
       "287               Traffic cases     Accused                     279 IPC   \n",
       "288              Criminal cases     Accused                269/188 IPC    \n",
       "\n",
       "                                               Offence  \\\n",
       "274   intent to cause roit, sending offensive messages   \n",
       "275                                       rash driving   \n",
       "276                                       rash driving   \n",
       "277  Negligently causing danger to life, Disobedien...   \n",
       "278  Disobedience to order duly promulgated by publ...   \n",
       "279  Disobedience to order duly promulgated by publ...   \n",
       "280  Rash driving, without driving license,disobeyi...   \n",
       "281               Rash Driving,without driving license   \n",
       "282   Disobedience to order duly promulgated by pub...   \n",
       "283                                       rash driving   \n",
       "284                 rash driving, hurts someone rashly   \n",
       "285   intent to cause roit, sending offensive messages   \n",
       "286                                       rash driving   \n",
       "287                                       rash driving   \n",
       "288  Negligently causing danger to life, Disobedien...   \n",
       "\n",
       "                      Punishment      Status          Type of punishment  \n",
       "274  Committed to session court   Unresolved  Committed to session court  \n",
       "275                    Fine 1000    Resolved                        Fine  \n",
       "276                    Fine 1000    Resolved                        Fine  \n",
       "277                    Fine 1000    Resolved                        Fine  \n",
       "278                            0     Pending                           0  \n",
       "279                            0     Pending                           0  \n",
       "280                            0     Pending                           0  \n",
       "281                            0     Pending                           0  \n",
       "282                            0     Pending                           0  \n",
       "283                            0     Pending                           0  \n",
       "284                            0     Pending                           0  \n",
       "285                            0     Pending                           0  \n",
       "286                            0     Pending                           0  \n",
       "287                            0     Pending                           0  \n",
       "288                            0     Pending                           0  "
      ]
     },
     "execution_count": 265,
     "metadata": {},
     "output_type": "execute_result"
    }
   ],
   "source": [
    "df = pd.read_csv('Data_netapp.csv')\n",
    "data = df.copy()\n",
    "data.Punishment.fillna(0,inplace=True)\n",
    "data['Punishment'].replace('Only court challan','0',inplace = True)\n",
    "data['Type'].replace('Traffic and Criminal cases','Traffic and criminal cases',inplace = True)\n",
    "data = data.reset_index(drop=True)\n",
    "data.tail(15)"
   ]
  },
  {
   "cell_type": "code",
   "execution_count": 266,
   "metadata": {
    "id": "bvHXeW1RSsbA"
   },
   "outputs": [],
   "source": [
    "Y = data[(data['Punishment']!=0)&(data['Type of punishment']!='0')]['Punishment']\n",
    "X = data[(data['Punishment']!=0)&(data['Type of punishment']!='0')]['Offence']\n",
    "Z = data[(data['Punishment']!=0)&(data['Type of punishment']!='0')]['Type of punishment']"
   ]
  },
  {
   "cell_type": "code",
   "execution_count": 268,
   "metadata": {
    "id": "QSDxsJNzSZ4u"
   },
   "outputs": [],
   "source": [
    "X_train, X_test, Y_train, Y_test,Z_train, Z_test = train_test_split(X, Y,Z, random_state = 1)"
   ]
  },
  {
   "cell_type": "markdown",
   "metadata": {},
   "source": [
    "### Replace \"n't\" with not"
   ]
  },
  {
   "cell_type": "code",
   "execution_count": null,
   "metadata": {},
   "outputs": [],
   "source": [
    "def convert_to_not(text):\n",
    "    text = re.sub('n\\'t', 'not', text)\n",
    "    return text"
   ]
  },
  {
   "cell_type": "code",
   "execution_count": null,
   "metadata": {},
   "outputs": [],
   "source": [
    "data['Offence'] = data.Offence.apply(convert_to_not)\n",
    "df.head(10)"
   ]
  },
  {
   "cell_type": "markdown",
   "metadata": {
    "id": "7KTFoT2qS_7R"
   },
   "source": [
    "### Removing stopwords and unnecessary data"
   ]
  },
  {
   "cell_type": "code",
   "execution_count": 269,
   "metadata": {
    "id": "U4tCRSkMbAuA"
   },
   "outputs": [],
   "source": [
    "stop_words = set(stopwords.words('english'))\n",
    "stop_words.update(list(punctuation))\n",
    "words = ['those', 'on', 'U','own', '’ve', 'yourselves', 'around', 'between', 'four', 'been', 'alone', 'off', 'am', 'then', 'other', 'can', 'regarding', 'hereafter', 'front', 'too', 'used', 'wherein', '‘ll', 'doing', 'everything', 'up', 'onto', 'never', 'either', 'how', 'before', 'anyway', 'since', 'through', 'amount', 'now', 'he', 'was', 'have', 'into', 'because', 'not', 'therefore', 'they', 'n’t', 'even', 'whom', 'it', 'see', 'somewhere', 'thereupon', 'nothing', 'whereas', 'much', 'whenever', 'seem', 'until', 'whereby', 'at', 'also', 'some', 'last', 'than', 'get', 'already', 'our', 'once', 'will', 'noone', \"'m\", 'that', 'what', 'thus', 'no', 'myself', 'out', 'next', 'whatever', 'although', 'though', 'which', 'would', 'therein', 'nor', 'somehow', 'whereupon', 'besides', 'whoever', 'ourselves', 'few', 'did', 'without', 'third', 'anything', 'twelve', 'against', 'while', 'twenty', 'if', 'however', 'herself', 'when', 'may', 'ours', 'six', 'done', 'seems', 'else', 'call', 'perhaps', 'had', 'nevertheless', 'where', 'otherwise', 'still', 'within', 'its', 'for', 'together', 'elsewhere', 'throughout', 'of', 'others', 'show', '’s', 'anywhere', 'anyhow', 'as', 'are', 'the', 'hence', 'something', 'hereby', 'nowhere', 'latterly', 'say', 'does', 'neither', 'his', 'go', 'forty', 'put', 'their', 'by', 'namely', 'could', 'five', 'unless', 'itself', 'is', 'nine', 'whereafter', 'down', 'bottom', 'thereby', 'such', 'both', 'she', 'become', 'whole', 'who', 'yourself', 'every', 'thru', 'except', 'very', 'several', 'among', 'being', 'be', 'mine', 'further', 'n‘t', 'here', 'during', 'why', 'with', 'just', \"'s\", 'becomes', '’ll', 'about', 'a', 'using', 'seeming', \"'d\", \"'ll\", \"'re\", 'due', 'wherever', 'beforehand', 'fifty', 'becoming', 'might', 'amongst', 'my', 'empty', 'thence', 'thereafter', 'almost', 'least', 'someone', 'often', 'from', 'keep', 'him', 'or', '‘m', 'top', 'her', 'nobody', 'sometime', 'across', '‘s', '’re', 'hundred', 'only', 'via', 'name', 'eight', 'three', 'back', 'to', 'all', 'became', 'move', 'me', 'we', 'formerly', 'so', 'i', 'whence', 'under', 'always', 'himself', 'in', 'herein', 'more', 'after', 'themselves', 'you', 'above', 'sixty', 'them', 'your', 'made', 'indeed', 'most', 'everywhere', 'fifteen', 'but', 'must', 'along', 'beside', 'hers', 'side', 'former', 'anyone', 'full', 'has', 'yours', 'whose', 'behind', 'please', 'ten', 'seemed', 'sometimes', 'should', 'over', 'take', 'each', 'same', 'rather', 'really', 'latter', 'and', 'ca', 'hereupon', 'part', 'per', 'eleven', 'ever', '‘re', 'enough', \"n't\", 'again', '‘d', 'us', 'yet', 'moreover', 'mostly', 'one', 'meanwhile', 'whither', 'there', 'toward', '’m', \"'ve\", '’d', 'give', 'do', 'an', 'quite', 'these', 'everyone', 'towards', 'this', 'cannot', 'afterwards', 'beyond', 'make', 'were', 'whether', 'well', 'another', 'below', 'first', 'upon', 'any', 'none', 'many', 'serious', 'various', 're', 'two', 'less', '‘ve']\n",
    "stop_words.update(words)"
   ]
  },
  {
   "cell_type": "code",
   "execution_count": 270,
   "metadata": {
    "colab": {
     "base_uri": "https://localhost:8080/"
    },
    "id": "IaOMy40MYHqc",
    "outputId": "58617697-a5f3-49e0-fa88-c02e0d34072d"
   },
   "outputs": [
    {
     "name": "stdout",
     "output_type": "stream",
     "text": [
      "Overtaking 184 motor vehicle act \n",
      "Unattended stationary vehicle engine running pubic place \n",
      "helmet U/S 129/194 \n",
      "person age 18 years driving motor vehicle  \n",
      "rash driving hurts rashly \n",
      "keeping vehicle stationary public place precautions  \n",
      "Smoking public service vehicle  \n",
      "D/L U/S 3/181 \n",
      "uniform \n",
      "Overtaking \n",
      "Commerical vehicle plying pollution U/S 190(2) \n",
      "uniform \n",
      "Mobile Phone driving \n",
      "uniform \n",
      "Rash driving endanger life driving license \n",
      "Dangerous driving \n",
      "Overspeeding \n",
      "Dangerous driving \n",
      "Stunt driving wheeler  \n",
      "keeping vehicle stationary precautions  \n",
      "helmet U/S 129/194 \n",
      "rash driving \n",
      "Overspeeding \n",
      "helmet U/S 129/194 \n",
      "intent cause miscarriage raping pregnant woman \n",
      "rash driving hurts rashly \n",
      "seat belt 194B motor vehicle act \n",
      "Registration Number plate according pattern \n",
      "Riding motorcycle helment 129/194 \n",
      "seat belt 194B motor vehicle act \n",
      "Disobedience order duly promulgated public servant cruelty animals \n",
      "uniform \n",
      "helmet U/S 129/194 \n",
      "Disobedience order duly promulgated public servant cruelty animals,dangerous driving driving license disobeying authority  \n",
      "helmet U/S 129/194 \n",
      "seat belt 194B motor vehicle act \n",
      "valid Insurance U/S 146/196 \n",
      "Registration Mark visible  \n",
      "Driving vehicle balero uniform R/C driving wrong parking  \n",
      "Carriage Excess Passenger U/S 194A seat belt U/S 194B \n",
      "Route Permit U/S 66/192A \n",
      "registration certificate \n",
      "Negligently causing danger life Disobedience order duly promulgated public servant \n",
      "helmet U/S 129/194 \n",
      "Keeping vehice dangerous position public place \n",
      "Overtaking U/S 179 seat belt \n",
      "Plying heavy goods passenger vehicle attendant \n",
      "helmet U/S 129/194 \n",
      "Registration Number plate according pattern \n",
      "helmet U/S 129/194 \n",
      "helmet U/S 129/194 \n",
      "Driver PSV wearing uniform  \n",
      "seat belt 194B motor vehicle act \n",
      "wrongful restraint voluntarily causing hurt roiting \n",
      "valid Insurance U/S 146/196 \n",
      "Overspeeding \n",
      "Dangerous driving \n",
      "Disobedience order duly promulgated public servant cruelty animals \n",
      "seat belt 194B motor vehicle act \n",
      "Mobile Phone driving U/S 184  \n",
      "Dangerous driving \n",
      "Overspeeding LMV U/S 112/183 \n",
      "seat belt 194B motor vehicle act \n",
      "uniform \n",
      "Dangerous driving U/S 184 \n",
      "Keeping vehice dangerous position \n",
      "seat belt 194B motor vehicle act \n",
      "wrongful restraint voluntarily causing hurt roiting \n",
      "Rash driving endanger life \n",
      "rash driving \n"
     ]
    }
   ],
   "source": [
    "# cleaning test data\n",
    "for i in range(len(X_test)):\n",
    "  idx = X_test.index[i]\n",
    "  str = \"\"\n",
    "  for j in X_test[idx].split(' '):\n",
    "    if len(j.strip()) > 2 and j.strip()[:2] == 'JK':\n",
    "      continue\n",
    "    elif j.strip().lower() in stop_words:\n",
    "      continue\n",
    "    elif len(j.strip()) >= 1 and j.strip()[-1] == ',':\n",
    "      str += j.strip()[:-1]\n",
    "      str += \" \"\n",
    "    else:\n",
    "      str += j.strip()\n",
    "      str += \" \"\n",
    "  X_test[idx] = str\n",
    "  print(X_test[idx])"
   ]
  },
  {
   "cell_type": "markdown",
   "metadata": {},
   "source": [
    "### Stemming and lemmatisation"
   ]
  },
  {
   "cell_type": "code",
   "execution_count": 271,
   "metadata": {},
   "outputs": [],
   "source": [
    "import re\n",
    "global str\n",
    "def utils_preprocess_text(text, flg_stemm=False, flg_lemm=True, lst_stopwords=None):\n",
    "    ## clean (convert to lowercase and remove punctuations and characters and then strip)\n",
    "    print(text)\n",
    "    text = re.sub(r'[^\\w\\s]', '', (text).lower().strip())\n",
    "            \n",
    "    ## Tokenize\n",
    "    lst_text = text.split()  \n",
    "    if lst_stopwords is not None:\n",
    "        lst_text = [word for word in lst_text if word not in lst_stopwords]\n",
    "                \n",
    "    ## Stemming\n",
    "    if flg_stemm == True:\n",
    "        ps = nltk.stem.porter.PorterStemmer()\n",
    "        lst_text = [ps.stem(word) for word in lst_text]\n",
    "                \n",
    "    ## Lemmatisation\n",
    "    if flg_lemm == True:\n",
    "        lem = nltk.stem.wordnet.WordNetLemmatizer()\n",
    "        lst_text = [lem.lemmatize(word) for word in lst_text]\n",
    "            \n",
    "    ## back to string from list\n",
    "    text = \" \".join(lst_text)\n",
    "    return text"
   ]
  },
  {
   "cell_type": "code",
   "execution_count": 272,
   "metadata": {},
   "outputs": [
    {
     "name": "stdout",
     "output_type": "stream",
     "text": [
      "rash driving\n",
      "Registration Number plate not according to the pattern\n",
      "attempt to murder\n",
      "Without valid Insurance U/S 146/196\n",
      "Stunt driving by a two wheeler U/S 184\n",
      "Without insurance U/S 146/196\n",
      "Without helmet U/S 129/194 D\n",
      "Disobedience to order duly promulgated by public servant, Negligently causing danger to life, triple driving\n",
      "Disobedience to order duly promulgated by public servant, cruelty with animals,dangerous driving, without driving license, disobeying authority \n",
      "Using vehicle in unsafe condition U/S 190(1) \n",
      "Without uniform\n",
      "Driving without D/L U/S 3/181\n",
      "Gaming and setting animals to fight\n",
      "Without seat belt 194B motor vehicle act\n",
      "Overspeeding\n",
      "Without D/L U/S 3/181 , without seat belt 190\n",
      "Disobeying signal of Police officer regulating traffic U/S 179\n",
      "The scorpio, JK1420030039541 vehicle fitted with tinted glass. Hence seized w/s 206 Motor vehicle Act & sent to Police station Udhampur for safe custody.\n",
      "Overspeeding\n",
      "Without helmet U/S 129/194 D\n",
      "wrongful restraint, voluntarily causing hurt,intentional insult,criminal intimidation\n",
      "Using Mobile Phone while driving U/S 184 \n",
      "Overtaking U/S 179, without seat belt\n",
      "Violator not disclosing identity U/S 179\n",
      "Excess passenger 10, 39/192, without uniform \n",
      "Negligently causing danger to life, Disobedience to order duly promulgated by public servant\n",
      "Without seat belt 194B motor vehicle act\n",
      "Causing obstruction to free flow of traffic \n",
      "harassment of woman by known\n",
      "Using Mobile Phone while driving\n",
      "Drunken driving, without seat bealt U/S 184/190\n",
      "Disobedience to order duly promulgated by public servant, cruelty with animals\n",
      "Violation of mandatory road signals \n",
      "Without helmet U/S 129/194 D\n",
      "Using Mobile Phone while driving U/S 184 \n",
      "Without helmet and used unparliamentary language\n",
      "keeping a vehicle stationary in a public place without precautions \n",
      "Overtaking U/S 179, without seat belt\n",
      "Without D/L overloading U/S 113(2)/194(1)\n",
      "Owner of vehicle allow plying without valid insurance U/S 140/196\n",
      "Without helmet U/S 129/194 D\n",
      "Excess passenger 10, 39/192, without uniform \n",
      "harassment of woman by known\n",
      "Disobedience to order duly promulgated by public servant, not performing duty of prevention of suffering or pain of animals\n",
      "Without valid Insurance U/S 146/196\n",
      "Without uniform, without seat belt\n",
      "Rash Driving,without driving license\n",
      "Disobedience to order duly promulgated by public servant, cruelty with animals\n",
      "Without seat belt 194B motor vehicle act\n",
      "Without uniform\n",
      "Violation of mandatory road signals \n",
      "Dangerous driving\n",
      "Without uniform\n",
      "Without seat belt 194B motor vehicle act\n",
      "Overtaking U/S 179, without seat belt\n",
      "Without seat belt 194B motor vehicle act\n",
      "rash driving, hurts someone rashly\n",
      "Without valid Insurance U/S 146/196\n",
      "Rash driving, endanger life\n",
      "Without D/L U/S 3/181 and without insurance U/S 146/196\n",
      "Without helmet  U/S 190\n",
      " Disobedience to order duly promulgated by public servant, cruelty with animals, without driving license\n",
      "Stunt driving by a two wheeler \n",
      "Registration Number plate not according to the pattern\n",
      "Overspeeding\n",
      "Dangerous driving\n",
      "harassment of woman by known\n",
      "Registration Number plate not according to the pattern\n",
      "Without seat belt 194B motor vehicle act\n",
      "rash driving\n",
      "wrongful restraint,voluntarily causing grievous hurt,criminal intimidation\n",
      "Non commerical vehicle U/S 190(2) plying without pollution\n",
      "Disobedience to order duly promulgated by public servant,Negligently causing danger to life\n",
      "Without seat belt 194B motor vehicle act\n",
      "Overtaking U/S 179, without seat belt\n",
      "Without seat belt 194B motor vehicle act\n",
      "Without helmet U/S 129/194 D\n",
      "Without helmet U/S 129/194 D\n",
      "keeping a vehicle stationary in a public place without precautions \n",
      "keeping a vehicle stationary in a public place without precautions \n",
      "Rash driving, endanger life\n",
      "Violation of mandatory road signals \n",
      "Disobedience to order duly promulgated by public servant,Negligently causing danger to life\n",
      "Without helmet U/S 129/194 D\n",
      "Using Mobile Phone while driving\n",
      "Without helmet U/S 129/194 D\n",
      "Using Mobile Phone while driving\n",
      "Disobedience to order duly promulgated by public servant, cruelty with animals,dangerous driving, without driving license, disobeying authority \n",
      "wrongful restraint,voluntarily causing grievous hurt,criminal intimidation\n",
      "Keeping vehice in dangerous position in a public place \n",
      "Registration Number plate not according to the pattern\n",
      "Without helmet U/S 129/194 D\n",
      "Rash driving, causing death by negligence\n",
      "Without helmet  129/194 D\n",
      "Violation of road signals \n",
      "Without uniform\n",
      "Entry in no entry area U/S 179\n",
      "Without seat belt 194B motor vehicle act\n",
      "Without helmet U/S 129/194 D\n",
      "Without license 3/181 Motor vehicle act, without helmet U/S 129/194 D\n",
      "Disobedience to order duly promulgated by public servant,several people committing criminal act\n",
      "Without helmet U/S 129/194 D\n",
      "harassment of woman by known, criminal intimidation, voluntarily causing hurt\n",
      "Disobedience to order duly promulgated by public servant,Negligently causing danger to life\n",
      "Stage carriage without First Aid Box\n",
      "Without seat belt 194B motor vehicle act\n",
      "rash driving\n",
      "wrongful restraint, voluntarily causing hurt\n",
      "harassment of woman by known\n",
      "Driving vehicle,Load carrier, JK01AD9256 without uniform \n",
      "Disobedience to order duly promulgated by public servant, not performing duty of prevention of suffering or pain of animals\n",
      "Auto JK14C9747 Controvention of R/c, one passenger overloaded\n",
      "Disobedience to order duly promulgated by public servant, cruelty with animals\n",
      "rash driving\n",
      "Owner allowing his vehicle to be driven by a person without driving license\n",
      "Stunt driving by a two wheeler \n",
      "Overspeeding/dangerous driving \n",
      "Overspeeding\n",
      "Stunt driving by a two wheeler \n",
      "Overspeeding\n",
      "Driver failing to make prescribe signal on prescribe occasion U/S 121/177\n",
      "Overtaking U/S 179, without seat belt\n",
      "Transport vehicle without speed governor\n",
      "keeping a vehicle stationary in a public place without precautions \n",
      "wrongful restraint, voluntarily causing hurt,intentional insult,criminal intimidation\n",
      "keeping a vehicle stationary in a public place without precautions \n",
      "Without helmet U/S 129/194 D\n",
      "wrongful restraint, voluntarily causing hurt,several people committing criminal act\n",
      "Without uniform\n",
      "Without uniform\n",
      "Vehicle plying with black film U/S 190(2)\n",
      "Dangerous driving\n",
      "Without helmet U/S 129/194 D\n",
      "Failure to give passage to Emergency vehicles \n",
      "harassment of woman by known, voluntarily causing hurt\n",
      "Overspeeding\n",
      "Without uniform\n",
      "Violation of mandatory road signals \n",
      "Stunt driving by a two wheeler \n",
      "Overloading U/S 113(3)/ 194(1), without uniform and extra weight\n",
      "Violation of mandatory road signals \n",
      "Overtaking U/S 179, without seat belt\n",
      "Without license 3/181 Motor vehicle act\n",
      "rash driving\n",
      "Violation of mandatory road signals \n",
      "Without helmet U/S 129/194 D\n",
      "Gaming and setting animals to fight\n",
      "Using Mobile Phone while driving\n",
      "Disobedience to order duly promulgated by public servant, cruelty with animals\n",
      "Stunt driving by a two wheeler \n",
      "Overspeeding/ dangerous driving\n",
      "wrongful restraint, voluntarily causing hurt, roiting, assembly guilt in prosecution\n",
      "Overtaking U/S 179, without seat belt\n",
      "Without seat belt 194B motor vehicle act\n",
      "Rash driving, causing death by negligence\n",
      "Vehicle without Registration number plate U/S 177\n",
      "attempt to murder\n",
      "Violation of mandatory road signals \n",
      "Conductor if stage carrier without license\n",
      "Commerical vehicle plying without pollution U/S 190(2)\n",
      "Stunt driving by a two wheeler \n",
      "Passenger travelling on the roof \n",
      "Owner of vehicle allow plying without valid insurance U/S 140/196\n",
      "Goods extented approx 2 feet above body overheight U/S 194(A)\n",
      "Overspeeding\n",
      "Sir violater plying the vehicle,tempo, JK02AQ0891 Srinagar to Jammu checked & found. Driving wrong lane in Chenani tunnel. 184 Motor vehicle Act\n",
      "intent to cause roit, sending offensive messages\n",
      "Overspeeding U/S 112/183 \n",
      "Stunt driving by a two wheeler \n",
      "Without uniform\n",
      "Registration Number plate not according to the pattern\n",
      "Rash driving, without driving license,disobeying authority\n",
      "Two pillion riders on a two wheller U/S 184 Motor Vehicle Act\n",
      "Without uniform\n",
      "Stunt driving by a two wheeler \n",
      "Disobedience to order duly promulgated by public servant, not performing duty of prevention of suffering or pain of animals\n",
      "Overtaking U/S 179, without seat belt\n",
      "Registration Number plate not according to the pattern\n",
      "Disobedience to order duly promulgated by public servant,Negligently causing danger to life\n",
      "wrongful restraint,voluntarily causing grievous hurt,criminal intimidation\n",
      "Disobeying signal of Police officer regulating traffic, without registration certificate, non commerical four-wheeler being used as a commerical vehicle, 179 and 66/192 and 39/192\n",
      "Without uniform\n",
      "Without fitness certificate U/S 56/192 \n",
      "Dangerous driving\n",
      "Driver plying vehicle,scooty, JK14F-984T without  documents also argue with public servent on duty and misbehave with other officials also.\n",
      "Using vehicle in unsafe condition U/S 190(1) \n",
      "Overloading U/S 179 without seat belt\n",
      "Scooty JK14D/2847 Without documents 207 Motor Vehicle Act. Hence the above said vehicle has been seized by 207 motor vehicle act.\n",
      "Without helmet U/S 129/194 D\n",
      "Person with Learner's License driving without being accompained by a person having valid DL\n",
      "wrongful restraint, voluntarily causing hurt\n",
      "wrongful restraint,voluntarily causing grievous hurt,criminal intimidation\n",
      "Without insurance U/S 146/196\n",
      "Without valid Insurance U/S 146/196\n",
      "Overspeeding\n",
      "wrongful restraint, voluntarily causing hurt,several people committing criminal act,criminal intimidation\n",
      "rash driving, owner permitting to drive vehicle\n",
      "without effective registration \n",
      "Without seat belt 194B motor vehicle act\n",
      "Gaming and setting animals to fight\n",
      "Unauthorized use of red/blue beacon light \n",
      "Using Mobile Phone while driving\n",
      "Using Mobile Phone while driving\n",
      "Keeping vehice in dangerous position \n",
      "Without seat belt 194B motor vehicle act\n",
      "Disobedience to order duly promulgated by public servant, cruelty with animals\n",
      "Owner allowing Juvenile to drive a motor vehicle \n",
      "wrongful restraint, voluntarily causing hurt, roiting\n",
      "Overloading in Goods Vehicle, U/S 113(3), 194(1), Using vehicle in unsafe  condition U/S 190(1) \n"
     ]
    },
    {
     "data": {
      "text/plain": [
       "275                                         rash driving\n",
       "99           registration number plate according pattern\n",
       "250                                       attempt murder\n",
       "173                               valid insurance 146196\n",
       "31                             stunt driving wheeler 184\n",
       "                             ...                        \n",
       "203                     seat belt 194b motor vehicle act\n",
       "255    disobedience order duly promulgated public ser...\n",
       "72           owner allowing juvenile drive motor vehicle\n",
       "235    wrongful restraint voluntarily causing hurt ro...\n",
       "37     overloading good vehicle 1133 1941 vehicle uns...\n",
       "Name: Offence, Length: 208, dtype: object"
      ]
     },
     "execution_count": 272,
     "metadata": {},
     "output_type": "execute_result"
    }
   ],
   "source": [
    "X_train = X_train.apply(lambda x: utils_preprocess_text(x, flg_stemm=False, flg_lemm=True,lst_stopwords=stop_words))\n",
    "X_train"
   ]
  },
  {
   "cell_type": "code",
   "execution_count": 273,
   "metadata": {},
   "outputs": [],
   "source": [
    "from sklearn.pipeline import Pipeline\n",
    "from sklearn.feature_extraction.text import CountVectorizer\n",
    "vectorizer = CountVectorizer()"
   ]
  },
  {
   "cell_type": "markdown",
   "metadata": {
    "id": "g83bUrNRbgYa"
   },
   "source": [
    "Tf- Idf Vectorizer and SVC classifier"
   ]
  },
  {
   "cell_type": "code",
   "execution_count": 274,
   "metadata": {},
   "outputs": [
    {
     "data": {
      "text/plain": [
       "0.9857142857142858"
      ]
     },
     "execution_count": 274,
     "metadata": {},
     "output_type": "execute_result"
    }
   ],
   "source": [
    "from sklearn.model_selection import train_test_split\n",
    "from sklearn.metrics import classification_report\n",
    "\n",
    "from xgboost import XGBClassifier\n",
    "from sklearn.linear_model import LogisticRegression\n",
    "from sklearn.neighbors import KNeighborsClassifier\n",
    "\n",
    "from sklearn.metrics import accuracy_score\n",
    "pipe = Pipeline(steps=[('cv',CountVectorizer()),('lr',LogisticRegression(solver='liblinear'))])\n",
    "pipe.fit(X_train,Z_train)\n",
    "pipe.score(X_train,Z_train)\n",
    "pipe.score(X_test,Z_test)"
   ]
  },
  {
   "cell_type": "code",
   "execution_count": 275,
   "metadata": {
    "id": "rLFSzLRAaKw1"
   },
   "outputs": [],
   "source": [
    "from sklearn.model_selection import train_test_split\n",
    "from sklearn.metrics import classification_report\n",
    "\n",
    "from xgboost import XGBClassifier\n",
    "from sklearn.linear_model import LogisticRegression\n",
    "from sklearn.neighbors import KNeighborsClassifier\n",
    "\n",
    "from sklearn.metrics import accuracy_score"
   ]
  },
  {
   "cell_type": "code",
   "execution_count": 276,
   "metadata": {
    "colab": {
     "base_uri": "https://localhost:8080/"
    },
    "id": "qaFWIjGVbt6p",
    "outputId": "75bcd516-83b4-4498-e77a-ee411dcb248e"
   },
   "outputs": [],
   "source": [
    "from sklearn.pipeline import Pipeline\n",
    "from sklearn.feature_extraction.text import CountVectorizer\n",
    "vectorizer = CountVectorizer()\n",
    "pipe = Pipeline(steps=[('cv',CountVectorizer()),('lr',LogisticRegression(solver='liblinear'))])"
   ]
  },
  {
   "cell_type": "code",
   "execution_count": 277,
   "metadata": {
    "id": "kGMZW7Hxb5y2"
   },
   "outputs": [
    {
     "data": {
      "text/plain": [
       "0.9903846153846154"
      ]
     },
     "execution_count": 277,
     "metadata": {},
     "output_type": "execute_result"
    }
   ],
   "source": [
    "pipe1= Pipeline(steps=[('cv',CountVectorizer()),('rf',RandomForestClassifier())])\n",
    "pipe1.fit(X_train,Z_train)\n",
    "pipe1.score(X_train,Z_train)"
   ]
  },
  {
   "cell_type": "code",
   "execution_count": 278,
   "metadata": {
    "id": "2bKa70eAcB_L"
   },
   "outputs": [
    {
     "data": {
      "text/plain": [
       "0.9857142857142858"
      ]
     },
     "execution_count": 278,
     "metadata": {},
     "output_type": "execute_result"
    }
   ],
   "source": [
    "pipe1.score(X_test,Z_test)"
   ]
  },
  {
   "cell_type": "code",
   "execution_count": 279,
   "metadata": {
    "colab": {
     "base_uri": "https://localhost:8080/"
    },
    "id": "2u834EcFcJKk",
    "outputId": "63a024e8-3c38-4600-a559-f1f9db79dd94",
    "scrolled": true
   },
   "outputs": [
    {
     "data": {
      "text/plain": [
       "0.9855769230769231"
      ]
     },
     "execution_count": 279,
     "metadata": {},
     "output_type": "execute_result"
    }
   ],
   "source": [
    "pipe2= Pipeline(steps=[('cv',CountVectorizer()),('rf',KNeighborsClassifier(n_neighbors=3))])\n",
    "pipe2.fit(X_train,Z_train)\n",
    "pipe2.score(X_train,Z_train)"
   ]
  },
  {
   "cell_type": "code",
   "execution_count": 280,
   "metadata": {
    "scrolled": true
   },
   "outputs": [
    {
     "data": {
      "text/plain": [
       "11           Fine\n",
       "73           Fine\n",
       "146          Fine\n",
       "79           Fine\n",
       "266          Fine\n",
       "          ...    \n",
       "138          Fine\n",
       "189          Fine\n",
       "222    Compromise\n",
       "225          Fine\n",
       "263          Fine\n",
       "Name: Type of punishment, Length: 70, dtype: object"
      ]
     },
     "execution_count": 280,
     "metadata": {},
     "output_type": "execute_result"
    }
   ],
   "source": [
    "pipe2.score(X_test,Z_test)\n",
    "Z_test"
   ]
  },
  {
   "cell_type": "code",
   "execution_count": 281,
   "metadata": {
    "scrolled": false
   },
   "outputs": [
    {
     "name": "stderr",
     "output_type": "stream",
     "text": [
      "<ipython-input-281-417a2684c2a1>:5: SettingWithCopyWarning: \n",
      "A value is trying to be set on a copy of a slice from a DataFrame.\n",
      "Try using .loc[row_indexer,col_indexer] = value instead\n",
      "\n",
      "See the caveats in the documentation: https://pandas.pydata.org/pandas-docs/stable/user_guide/indexing.html#returning-a-view-versus-a-copy\n",
      "  data.loc[start:end]['Type of punishment'] = Z_unresolved\n"
     ]
    }
   ],
   "source": [
    "X_unresolved= data[data['Status']=='Pending']['Offence']\n",
    "Z_unresolved = pipe1.predict(X_unresolved)\n",
    "start = data[data['Status']=='Pending']['Offence'].index[0]\n",
    "end = data[data['Status']=='Pending']['Offence'].index[-1]\n",
    "data.loc[start:end]['Type of punishment'] = Z_unresolved"
   ]
  },
  {
   "cell_type": "code",
   "execution_count": 282,
   "metadata": {},
   "outputs": [
    {
     "data": {
      "text/plain": [
       "0.7571428571428571"
      ]
     },
     "execution_count": 282,
     "metadata": {},
     "output_type": "execute_result"
    }
   ],
   "source": [
    "pipe.fit(X_train,Y_train)\n",
    "pipe.score(X_train,Y_train)\n",
    "pipe.score(X_test,Y_test)"
   ]
  },
  {
   "cell_type": "code",
   "execution_count": 283,
   "metadata": {},
   "outputs": [
    {
     "data": {
      "text/plain": [
       "0.8"
      ]
     },
     "execution_count": 283,
     "metadata": {},
     "output_type": "execute_result"
    }
   ],
   "source": [
    "pipe1.fit(X_train,Y_train)\n",
    "pipe1.score(X_train,Y_train)\n",
    "pipe1.score(X_test,Y_test)"
   ]
  },
  {
   "cell_type": "code",
   "execution_count": 284,
   "metadata": {},
   "outputs": [
    {
     "data": {
      "text/plain": [
       "0.6857142857142857"
      ]
     },
     "execution_count": 284,
     "metadata": {},
     "output_type": "execute_result"
    }
   ],
   "source": [
    "pipe2.fit(X_train,Y_train)\n",
    "pipe2.score(X_train,Y_train)\n",
    "pipe2.score(X_test,Y_test)"
   ]
  },
  {
   "cell_type": "code",
   "execution_count": 285,
   "metadata": {},
   "outputs": [
    {
     "data": {
      "text/plain": [
       "array(['Fine 1000', 'Fine 250', 'Fine 6000', 'Fine 1000', 'Fine 5250',\n",
       "       'Fine 1000', 'Fine 1000', 'Committed to session court ',\n",
       "       'Fine 1000', 'Fine 1000', 'Fine 1000'], dtype=object)"
      ]
     },
     "execution_count": 285,
     "metadata": {},
     "output_type": "execute_result"
    }
   ],
   "source": [
    "Y_unresolved = pipe1.predict(X_unresolved)\n",
    "Y_unresolved"
   ]
  },
  {
   "cell_type": "code",
   "execution_count": 286,
   "metadata": {},
   "outputs": [
    {
     "name": "stderr",
     "output_type": "stream",
     "text": [
      "<ipython-input-286-f6a89418c28a>:1: SettingWithCopyWarning: \n",
      "A value is trying to be set on a copy of a slice from a DataFrame.\n",
      "Try using .loc[row_indexer,col_indexer] = value instead\n",
      "\n",
      "See the caveats in the documentation: https://pandas.pydata.org/pandas-docs/stable/user_guide/indexing.html#returning-a-view-versus-a-copy\n",
      "  data.loc[start:end]['Punishment'] = Y_unresolved\n"
     ]
    }
   ],
   "source": [
    "data.loc[start:end]['Punishment'] = Y_unresolved\n",
    "data.to_csv(\"Data_netapp2_update.csv\",index=False)"
   ]
  },
  {
   "cell_type": "code",
   "execution_count": 287,
   "metadata": {},
   "outputs": [],
   "source": [
    "import pickle\n",
    "filename = 'trained_model_new.sav'\n",
    "pickle.dump(pipe1,open(filename,'wb'))"
   ]
  },
  {
   "cell_type": "code",
   "execution_count": 288,
   "metadata": {},
   "outputs": [],
   "source": [
    "loaded_model = pickle.load(open('trained_model_new.sav','rb'))"
   ]
  },
  {
   "cell_type": "code",
   "execution_count": 289,
   "metadata": {},
   "outputs": [],
   "source": [
    "input_data = ['Without uniform','Over speeding']"
   ]
  },
  {
   "cell_type": "code",
   "execution_count": 290,
   "metadata": {},
   "outputs": [
    {
     "name": "stdout",
     "output_type": "stream",
     "text": [
      "['Fine 500' 'Fine 500']\n"
     ]
    }
   ],
   "source": [
    "# input_data_as_numpy_array = np.array(input_data)\n",
    "# input_data_reshaped = input_data_as_numpy_array.reshape(1,-1)\n",
    "prediction = loaded_model.predict(input_data)\n",
    "print(prediction)"
   ]
  },
  {
   "cell_type": "code",
   "execution_count": null,
   "metadata": {},
   "outputs": [],
   "source": []
  }
 ],
 "metadata": {
  "colab": {
   "collapsed_sections": [],
   "name": "temp",
   "provenance": []
  },
  "kernelspec": {
   "display_name": "Python 3",
   "language": "python",
   "name": "python3"
  },
  "language_info": {
   "codemirror_mode": {
    "name": "ipython",
    "version": 3
   },
   "file_extension": ".py",
   "mimetype": "text/x-python",
   "name": "python",
   "nbconvert_exporter": "python",
   "pygments_lexer": "ipython3",
   "version": "3.8.8"
  }
 },
 "nbformat": 4,
 "nbformat_minor": 1
}
